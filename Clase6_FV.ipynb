{
 "cells": [
  {
   "cell_type": "code",
   "execution_count": 1,
   "metadata": {},
   "outputs": [],
   "source": [
    "import cobra\n",
    "model=cobra.io.read_sbml_model(\"iHN637.xml\")"
   ]
  },
  {
   "cell_type": "code",
   "execution_count": 2,
   "metadata": {},
   "outputs": [
    {
     "name": "stdout",
     "output_type": "stream",
     "text": [
      "785\n",
      "698\n",
      "Maximize\n",
      "1.0*BIOMASS_Cl_DSM_WT_46p666M1 - 1.0*BIOMASS_Cl_DSM_WT_46p666M1_reverse_a44fc\n"
     ]
    }
   ],
   "source": [
    "print len(model.reactions)\n",
    "print len(model.metabolites)\n",
    "print model.objective"
   ]
  },
  {
   "cell_type": "code",
   "execution_count": 3,
   "metadata": {},
   "outputs": [
    {
     "name": "stdout",
     "output_type": "stream",
     "text": [
      "IN FLUXES            OUT FLUXES    OBJECTIVES\n",
      "-------------------  ------------  ----------------------\n",
      "fru_e      5         h_e    10.5   BIOMASS_Cl_D...  0.224\n",
      "nh4_e      1.7       ac_e    9.3\n",
      "pi_e       0.26      h2o_e   5.95\n",
      "k_e        0.0429    co2_e   1.65\n",
      "so4_e      0.0424\n",
      "fe2_e      0.0031\n",
      "mg2_e      0.00191\n",
      "ca2_e      0.00114\n",
      "cl_e       0.00114\n",
      "fol_e      0.0002\n",
      "cu2_e      0.000156\n",
      "mn2_e      0.000152\n",
      "ribflv_e   0.0001\n",
      "zn2_e      7.47e-05\n",
      "ni2_e      7.09e-05\n",
      "cobalt2_e  5.57e-05\n",
      "thm_e      5.01e-05\n"
     ]
    }
   ],
   "source": [
    "solution = model.optimize()\n",
    "model.summary()\n"
   ]
  },
  {
   "cell_type": "code",
   "execution_count": 4,
   "metadata": {},
   "outputs": [
    {
     "name": "stdout",
     "output_type": "stream",
     "text": [
      "FRUpts (0.0, 1000.0)\n",
      "EX_fru_e (-5.0, 1000.0)\n"
     ]
    }
   ],
   "source": [
    "for reaction in model.metabolites.get_by_id('fru_e').reactions:\n",
    "    print reaction.id, reaction.bounds"
   ]
  },
  {
   "cell_type": "code",
   "execution_count": 5,
   "metadata": {},
   "outputs": [],
   "source": [
    "from cobra.flux_analysis import flux_variability_analysis\n",
    "fva=flux_variability_analysis(model)"
   ]
  },
  {
   "cell_type": "code",
   "execution_count": 6,
   "metadata": {},
   "outputs": [
    {
     "name": "stdout",
     "output_type": "stream",
     "text": [
      "frozenset([<Reaction FRUpts at 0x17c7bb00>, <Reaction EX_fru_e at 0x1479c630>])\n",
      "value\n",
      "minimum   -5.0\n",
      "maximum   -5.0\n",
      "Name: EX_fru_e, dtype: float64\n"
     ]
    }
   ],
   "source": [
    "print model.metabolites.get_by_id('fru_e').reactions\n",
    "print \"value\"\n",
    "print fva.loc['EX_fru_e']"
   ]
  },
  {
   "cell_type": "code",
   "execution_count": 7,
   "metadata": {},
   "outputs": [
    {
     "name": "stdout",
     "output_type": "stream",
     "text": [
      "IN FLUXES                                  OUT FLUXES                   OBJECTIVES\n",
      "-----------------------------------------  ---------------------------  ----------------------\n",
      "id             Flux  Range                 id       Flux  Range         BIOMASS_Cl_D...  0.224\n",
      "---------  --------  --------------------  -----  ------  ------------\n",
      "fru_e      5         [5, 5]                h_e     10.5   [10.5, 10.5]\n",
      "nh4_e      1.7       [1.7, 1.7]            ac_e     9.3   [9.3, 9.3]\n",
      "pi_e       0.26      [0.26, 0.26]          h2o_e    5.95  [5.95, 5.95]\n",
      "k_e        0.0429    [0.0429, 0.0429]      co2_e    1.65  [1.65, 1.65]\n",
      "so4_e      0.0424    [0.0424, 0.0424]\n",
      "fe2_e      0.0031    [0.0031, 0.0031]\n",
      "mg2_e      0.00191   [0.00191, 0.00191]\n",
      "ca2_e      0.00114   [0.00114, 0.00114]\n",
      "cl_e       0.00114   [0.00114, 0.00114]\n",
      "fol_e      0.0002    [0.0002, 0.0002]\n",
      "cu2_e      0.000156  [0.000156, 0.000156]\n",
      "mn2_e      0.000152  [0.000152, 0.000152]\n",
      "ribflv_e   0.0001    [0.0001, 0.0001]\n",
      "zn2_e      7.5e-05   [7.5e-05, 7.5e-05]\n",
      "ni2_e      7.1e-05   [7.1e-05, 7.1e-05]\n",
      "cobalt2_e  5.6e-05   [5.6e-05, 5.6e-05]\n",
      "thm_e      5e-05     [5e-05, 5e-05]\n"
     ]
    }
   ],
   "source": [
    "solution = model.optimize()\n",
    "model.summary(fva=1)"
   ]
  },
  {
   "cell_type": "code",
   "execution_count": 8,
   "metadata": {},
   "outputs": [
    {
     "name": "stdout",
     "output_type": "stream",
     "text": [
      "IN FLUXES                                  OUT FLUXES                             OBJECTIVES\n",
      "-----------------------------------------  -------------------------------------  ----------------------\n",
      "id             Flux  Range                 id                 Flux  Range         BIOMASS_Cl_D...  0.224\n",
      "---------  --------  --------------------  ---------------  ------  ------------\n",
      "fru_e      5         [4.76, 5]             h_e               10.5   [1.15, 10.9]\n",
      "nh4_e      1.7       [1.62, 2.12]          ac_e               9.3   [0, 9.58]\n",
      "pi_e       0.26      [0.247, 0.269]        h2o_e              5.95  [2.88, 6.54]\n",
      "k_e        0.0429    [0.0408, 0.0429]      co2_e              1.65  [1.17, 8.17]\n",
      "so4_e      0.0424    [0.0403, 0.157]       etoh_e             0     [0, 6.39]\n",
      "fe2_e      0.0031    [0.00295, 0.0031]     h2_e               0     [0, 5.55]\n",
      "mg2_e      0.00191   [0.00181, 0.00191]    lac__D_e           0     [0, 0.924]\n",
      "ca2_e      0.00114   [0.00109, 0.00114]    pyr_e              0     [0, 0.792]\n",
      "cl_e       0.00114   [0.00109, 0.00114]    btd_RR_e           0     [0, 0.427]\n",
      "fol_e      0.0002    [0.00019, 0.0002]     ser__L_e           0     [0, 0.406]\n",
      "cu2_e      0.000156  [0.000148, 0.000156]  val__L_e           0     [0, 0.378]\n",
      "mn2_e      0.000152  [0.000144, 0.000152]  ile__L_e           0     [0, 0.354]\n",
      "ribflv_e   0.0001    [9.5e-05, 0.0001]     leu__L_e           0     [0, 0.264]\n",
      "zn2_e      7.5e-05   [7.1e-05, 7.5e-05]    lys__L_e           0     [0, 0.213]\n",
      "ni2_e      7.1e-05   [6.7e-05, 7.1e-05]    asn__L_e           0     [0, 0.185]\n",
      "cobalt2_e  5.6e-05   [5.3e-05, 5.6e-05]    citr__L_e          0     [0, 0.168]\n",
      "thm_e      5e-05     [4.8e-05, 5e-05]      arg__L_e           0     [0, 0.123]\n",
      "                                           met__L_e           0     [0, 0.116]\n",
      "                                           his__L_e           0     [0, 0.0759]\n",
      "                                           trp__L_e           0     [0, 0.0674]\n",
      "                                           ala__D_e           0     [0, 0.0308]\n",
      "                                           murein4p4p_e       0     [0, 0.0129]\n",
      "                                           murein4px4p_e      0     [0, 0.0129]\n",
      "                                           murein5p4p_e       0     [0, 0.0127]\n",
      "                                           murein5px4p_e      0     [0, 0.0127]\n",
      "                                           alaala_e           0     [0, 0.0125]\n",
      "                                           murein5p5p_e       0     [0, 0.0125]\n",
      "                                           murein5px3p_e      0     [0, 0.0125]\n",
      "                                           udcpdp_e           0     [0, 0.0108]\n",
      "                                           udcpp_e            0     [0, 0.0108]\n",
      "                                           uaagmda_e          0     [0, 0.00864]\n",
      "                                           murein4px4px...    0     [0, 0.0086]\n",
      "                                           murein5px4px...    0     [0, 0.0085]\n",
      "                                           murein5p5p5p_e     0     [0, 0.00832]\n",
      "                                           glyc_e             0     [0, 0.00516]\n"
     ]
    }
   ],
   "source": [
    "solution = model.optimize()\n",
    "model.summary(fva=0.95)"
   ]
  },
  {
   "cell_type": "code",
   "execution_count": 9,
   "metadata": {},
   "outputs": [],
   "source": [
    "fba_solution = model.optimize()\n",
    "pfba_solution = cobra.flux_analysis.pfba(model)"
   ]
  },
  {
   "cell_type": "code",
   "execution_count": 10,
   "metadata": {},
   "outputs": [
    {
     "name": "stdout",
     "output_type": "stream",
     "text": [
      "0.22445454212\n",
      "188.923734541\n"
     ]
    }
   ],
   "source": [
    "print fba_solution.objective_value\n",
    "print pfba_solution.objective_value"
   ]
  },
  {
   "cell_type": "code",
   "execution_count": 11,
   "metadata": {},
   "outputs": [
    {
     "name": "stdout",
     "output_type": "stream",
     "text": [
      "0.22445454211988664\n",
      "0.22445454211988625\n",
      "3.885780586188048e-16\n"
     ]
    }
   ],
   "source": [
    "print fba_solution.fluxes[\"BIOMASS_Cl_DSM_WT_46p666M1\"]\n",
    "print pfba_solution.fluxes[\"BIOMASS_Cl_DSM_WT_46p666M1\"]\n",
    "print abs(fba_solution.fluxes[\"BIOMASS_Cl_DSM_WT_46p666M1\"] - pfba_solution.fluxes[\"BIOMASS_Cl_DSM_WT_46p666M1\"])"
   ]
  },
  {
   "cell_type": "code",
   "execution_count": 12,
   "metadata": {},
   "outputs": [
    {
     "name": "stdout",
     "output_type": "stream",
     "text": [
      "84.0569524885\n",
      "65.3216407539\n"
     ]
    }
   ],
   "source": [
    "print sum(fba_solution.fluxes)\n",
    "print sum(pfba_solution.fluxes)"
   ]
  },
  {
   "cell_type": "code",
   "execution_count": 13,
   "metadata": {},
   "outputs": [
    {
     "ename": "UnicodeEncodeError",
     "evalue": "'ascii' codec can't encode character u'\\xd7' in position 1393: ordinal not in range(128)",
     "output_type": "error",
     "traceback": [
      "\u001b[1;31m---------------------------------------------------------------------------\u001b[0m",
      "\u001b[1;31mUnicodeEncodeError\u001b[0m                        Traceback (most recent call last)",
      "\u001b[1;32mc:\\python27\\lib\\site-packages\\IPython\\core\\formatters.pyc\u001b[0m in \u001b[0;36m__call__\u001b[1;34m(self, obj)\u001b[0m\n\u001b[0;32m    336\u001b[0m             \u001b[0mmethod\u001b[0m \u001b[1;33m=\u001b[0m \u001b[0mget_real_method\u001b[0m\u001b[1;33m(\u001b[0m\u001b[0mobj\u001b[0m\u001b[1;33m,\u001b[0m \u001b[0mself\u001b[0m\u001b[1;33m.\u001b[0m\u001b[0mprint_method\u001b[0m\u001b[1;33m)\u001b[0m\u001b[1;33m\u001b[0m\u001b[0m\n\u001b[0;32m    337\u001b[0m             \u001b[1;32mif\u001b[0m \u001b[0mmethod\u001b[0m \u001b[1;32mis\u001b[0m \u001b[1;32mnot\u001b[0m \u001b[0mNone\u001b[0m\u001b[1;33m:\u001b[0m\u001b[1;33m\u001b[0m\u001b[0m\n\u001b[1;32m--> 338\u001b[1;33m                 \u001b[1;32mreturn\u001b[0m \u001b[0mmethod\u001b[0m\u001b[1;33m(\u001b[0m\u001b[1;33m)\u001b[0m\u001b[1;33m\u001b[0m\u001b[0m\n\u001b[0m\u001b[0;32m    339\u001b[0m             \u001b[1;32mreturn\u001b[0m \u001b[0mNone\u001b[0m\u001b[1;33m\u001b[0m\u001b[0m\n\u001b[0;32m    340\u001b[0m         \u001b[1;32melse\u001b[0m\u001b[1;33m:\u001b[0m\u001b[1;33m\u001b[0m\u001b[0m\n",
      "\u001b[1;32mc:\\python27\\lib\\site-packages\\cobra\\core\\solution.pyc\u001b[0m in \u001b[0;36m_repr_html_\u001b[1;34m(self)\u001b[0m\n\u001b[0;32m     82\u001b[0m                         \u001b[1;34m'value {:.3f}</strong><br>{}'\u001b[0m\u001b[1;33m\u001b[0m\u001b[0m\n\u001b[0;32m     83\u001b[0m                         .format(self.objective_value,\n\u001b[1;32m---> 84\u001b[1;33m                                 self.to_frame()._repr_html_()))\n\u001b[0m\u001b[0;32m     85\u001b[0m         \u001b[1;32melse\u001b[0m\u001b[1;33m:\u001b[0m\u001b[1;33m\u001b[0m\u001b[0m\n\u001b[0;32m     86\u001b[0m             \u001b[0mhtml\u001b[0m \u001b[1;33m=\u001b[0m \u001b[1;34m'<strong><em>{}</em> solution</strong>'\u001b[0m\u001b[1;33m.\u001b[0m\u001b[0mformat\u001b[0m\u001b[1;33m(\u001b[0m\u001b[0mself\u001b[0m\u001b[1;33m.\u001b[0m\u001b[0mstatus\u001b[0m\u001b[1;33m)\u001b[0m\u001b[1;33m\u001b[0m\u001b[0m\n",
      "\u001b[1;31mUnicodeEncodeError\u001b[0m: 'ascii' codec can't encode character u'\\xd7' in position 1393: ordinal not in range(128)"
     ]
    },
    {
     "data": {
      "text/plain": [
       "<Solution 0.000 at 0x11c96be0>"
      ]
     },
     "execution_count": 13,
     "metadata": {},
     "output_type": "execute_result"
    }
   ],
   "source": [
    "geometric_fba_sol = cobra.flux_analysis.geometric_fba(model)\n",
    "geometric_fba_sol"
   ]
  },
  {
   "cell_type": "code",
   "execution_count": 16,
   "metadata": {},
   "outputs": [],
   "source": [
    "import argparse\n",
    "\n",
    "def getParser():\n",
    "    parser = argparse.ArgumentParser(description='Descripcion de la funcion de este programa.')\n",
    "    parser.add_argument('-o',type=str,dest=\"formato\",help=\"'png' si la imagen es guardada en formato PNG,                                                            ,o 'pdf' para ser guradada en formato PDF\")\n",
    "\n",
    "    if len(sys.argv) == 1:\n",
    "        print >> sys.stderr,parser.print_help()\n",
    "        exit(0)\n",
    "    return parser\n",
    "\n",
    "def main():\n",
    "    args=getParser().parse_args()\n",
    "    formato=args.formato\n",
    "\n",
    "    if formato==\"png\":\n",
    "        plt.savefig(\"geometric_fba_sol\")\n",
    "    elif formato==\"pdf\":\n",
    "        plt.savefig(\"geometric_fba_sol\")"
   ]
  },
  {
   "cell_type": "code",
   "execution_count": null,
   "metadata": {},
   "outputs": [],
   "source": []
  }
 ],
 "metadata": {
  "kernelspec": {
   "display_name": "Python 2",
   "language": "python",
   "name": "python2"
  },
  "language_info": {
   "codemirror_mode": {
    "name": "ipython",
    "version": 2
   },
   "file_extension": ".py",
   "mimetype": "text/x-python",
   "name": "python",
   "nbconvert_exporter": "python",
   "pygments_lexer": "ipython2",
   "version": "2.7.16"
  }
 },
 "nbformat": 4,
 "nbformat_minor": 2
}
